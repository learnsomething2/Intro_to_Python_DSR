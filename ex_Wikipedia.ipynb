{
 "cells": [
  {
   "cell_type": "markdown",
   "id": "71f269b5-c53d-41a3-8832-a74aed2d7495",
   "metadata": {},
   "source": [
    "## Exercise - Wikipedia API"
   ]
  },
  {
   "cell_type": "markdown",
   "id": "e19100e3-eae9-4c63-8e0e-aafb457669f3",
   "metadata": {},
   "source": [
    " \"Exercise - Wikipedia API\" from \"4. Accessing Data via APIs\"."
   ]
  },
  {
   "cell_type": "markdown",
   "id": "00f1c676-66e2-49e7-b98e-52d922fe7a32",
   "metadata": {
    "tags": []
   },
   "source": [
    "## Tasks (summary)\n",
    "Create a database of countries\n",
    "- in a folder called `countries` (you will need to make the folder)\n",
    "- each country in it's own folder\n",
    "- start with Germany\n",
    "\n",
    "V1 of your program should:\n",
    "- save the url you use to request the data\n",
    "- save the title\n",
    "- save the `line` parameter of each section (`data['parse']['sections']`)\n",
    "- save all in a single JSON\n",
    "\n",
    "V2 of your program should also:\n",
    "- save all '.png' & '.jpg' images as images, with the url as the image name\n",
    "- save all external links as CSV"
   ]
  },
  {
   "cell_type": "markdown",
   "id": "65b64c85-e14a-45d4-8b10-07cbbbc9b125",
   "metadata": {
    "tags": []
   },
   "source": [
    "## Some Links\n",
    "[API:Main page](https://www.mediawiki.org/wiki/API:Main_page) \\\n",
    "[API:Etiquette](https://www.mediawiki.org/wiki/API:Etiquette) \\\n",
    "[Parameters](https://www.mediawiki.org/w/api.php?action=help&modules=main) \\\n",
    "[Parameter action=parse](https://www.mediawiki.org/w/api.php?action=help&modules=parse) \\\n",
    "[Parameter action=query](https://www.mediawiki.org/w/api.php?action=help&modules=query)\n",
    "\n",
    "- Using the `|` character e.g. `titles=PageA|PageB|PageC`.\n",
    "- using [generator](https://www.mediawiki.org/wiki/API:Query#Generators) instead of making requests for each result from another result.\n",
    "- Use GZip compression when making API calls by setting `Accept-Encoding: gzip` to reduce bandwith usage.\n",
    "- `%20` indicates a space character in a URL\n",
    "- Create queries with [API sandbox](https://en.wikipedia.org/wiki/Special:ApiSandbox#action=query&list=search&srsearch=Craig%20Noone&format=json)\n",
    "\n",
    "Questions:\n",
    "- User-Agent header required (for this exercise?)\n"
   ]
  },
  {
   "cell_type": "markdown",
   "id": "2e44b14a-4869-44c3-bc6e-42abd30eb3cc",
   "metadata": {},
   "source": [
    "## Code"
   ]
  },
  {
   "cell_type": "code",
   "execution_count": 1,
   "id": "4837e8f2-e2bf-4a2d-bb1d-bfce75af83ab",
   "metadata": {},
   "outputs": [],
   "source": [
    "import requests\n",
    "import json\n",
    "import os"
   ]
  },
  {
   "cell_type": "code",
   "execution_count": 2,
   "id": "741438aa-aaae-4991-ba44-ee585b4a5dd0",
   "metadata": {},
   "outputs": [],
   "source": [
    "# global parameters\n",
    "endpoint = \"https://en.wikipedia.org/w/api.php\"\n",
    "\n",
    "params = {\n",
    "    \"action\": \"parse\",\n",
    "    \"format\": \"json\",\n",
    "    \"page\": \"Germany\",\n",
    "}\n",
    "\n",
    "countries_path = \"./data/countries/\"\n",
    "\n",
    "if not os.path.exists(countries_path):\n",
    "    os.makedirs(countries_path)"
   ]
  },
  {
   "cell_type": "code",
   "execution_count": 3,
   "id": "f4220b0c-6152-4b8a-9f56-3877b7df923d",
   "metadata": {},
   "outputs": [],
   "source": [
    "def add_country(country):\n",
    "    \"\"\"\n",
    "     tbd: properly describe function\n",
    "    \"\"\"\n",
    "    # create country folder if not yet exists\n",
    "    country_path = countries_path + country[\"folder_name\"]\n",
    "    if not os.path.exists(country_path):\n",
    "        os.makedirs(country_path)\n",
    "    \n",
    "    # maybe ask if overwrite ?\n",
    "    \n",
    "    # new dict to fill with infos and save as json-file in country-folder\n",
    "    country_info = country.copy()\n",
    "    \n",
    "    # prepare parameters for the request\n",
    "    params[\"page\"] = country[\"wiki_link\"].split(\"/\")[-1] # the last element of the wiki-link corresponds to the 'page'\n",
    "    \n",
    "    # requesting informations from Wikipedia\n",
    "    res = requests.get(endpoint, params)\n",
    "    \n",
    "    # read the relevant parts of the responded data\n",
    "    data = res.json()\n",
    "\n",
    "    title = data[\"parse\"][\"title\"]\n",
    "    sections = data[\"parse\"][\"sections\"]\n",
    "    lines = [section[\"line\"] for section in sections]\n",
    "    \n",
    "    # add the data to the dict\n",
    "    country_info.update({\"request_url\": res.url, \"title\": title, \"section_lines\": lines})\n",
    "    \n",
    "    # store the data\n",
    "    country_file_path = country_path + \"/\" + country[\"name\"]\n",
    "    with open(country_file_path, \"w+\") as fi:\n",
    "        fi.write(json.dumps(country_info))\n"
   ]
  },
  {
   "cell_type": "code",
   "execution_count": 4,
   "id": "0c655bb3-ff47-4b30-a4f3-704b53ca6a2e",
   "metadata": {
    "tags": []
   },
   "outputs": [],
   "source": [
    "# country list\n",
    "countries = [\n",
    "    {\n",
    "        \"name\": \"Germany\",\n",
    "        \"wiki_link\": \"https://en.wikipedia.org/wiki/Germany\",\n",
    "        \"folder_name\": \"Germany\",\n",
    "    },\n",
    "    {\n",
    "        \"name\": \"U.S.A.\",\n",
    "        \"wiki_link\": \"https://en.wikipedia.org/wiki/United_States\",\n",
    "        \"folder_name\": \"USA\",\n",
    "    }\n",
    "]\n",
    "\n",
    "for country in countries:\n",
    "    add_country(country)"
   ]
  },
  {
   "cell_type": "code",
   "execution_count": null,
   "id": "639cd1e2-7ac1-49c1-afe5-d22ba9e0f48b",
   "metadata": {},
   "outputs": [],
   "source": []
  }
 ],
 "metadata": {
  "kernelspec": {
   "display_name": "dsr-setup",
   "language": "python",
   "name": "dsr-setup"
  },
  "language_info": {
   "codemirror_mode": {
    "name": "ipython",
    "version": 3
   },
   "file_extension": ".py",
   "mimetype": "text/x-python",
   "name": "python",
   "nbconvert_exporter": "python",
   "pygments_lexer": "ipython3",
   "version": "3.8.13"
  }
 },
 "nbformat": 4,
 "nbformat_minor": 5
}
